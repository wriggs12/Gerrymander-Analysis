{
  "nbformat": 4,
  "nbformat_minor": 0,
  "metadata": {
    "colab": {
      "name": "Blocks_to_Precincts_final.ipynb",
      "provenance": [],
      "collapsed_sections": [],
      "include_colab_link": true
    },
    "kernelspec": {
      "name": "python3",
      "display_name": "Python 3"
    }
  },
  "cells": [
    {
      "cell_type": "markdown",
      "metadata": {
        "id": "view-in-github",
        "colab_type": "text"
      },
      "source": [
        "<a href=\"https://colab.research.google.com/github/mirzarad/CSE308/blob/master/Blocks_to_Precincts_final.ipynb\" target=\"_parent\"><img src=\"https://colab.research.google.com/assets/colab-badge.svg\" alt=\"Open In Colab\"/></a>"
      ]
    },
    {
      "cell_type": "code",
      "metadata": {
        "id": "GfGbOzjn4LtD",
        "colab_type": "code",
        "colab": {}
      },
      "source": [
        "import os\n",
        "!curl -L http://download.osgeo.org/libspatialindex/spatialindex-src-1.8.5.tar.gz | tar xz\n",
        "os.chdir(\"/content/spatialindex-src-1.8.5\")\n",
        "!./configure\n",
        "!make\n",
        "!make install\n",
        "!ldconfig"
      ],
      "execution_count": 0,
      "outputs": []
    },
    {
      "cell_type": "code",
      "metadata": {
        "id": "rhz5va2ACcC7",
        "colab_type": "code",
        "colab": {}
      },
      "source": [
        "!pip install geopandas\n",
        "!pip install rtree\n",
        "!pip install pyshp\n",
        "!pip install pyproj\n",
        "!pip install geopy\n",
        "!pip install fiona\n",
        "!pip install https://github.com/JosPolfliet/pandas-profiling/archive/master.zip\n",
        "\n",
        "!pip install https://github.com/andrea-cuttone/geoplotlib/archive/master.zip\n",
        "\n",
        "!pip install https://github.com/ResidentMario/missingno/archive/master.zip\n",
        "!pip install maup"
      ],
      "execution_count": 0,
      "outputs": []
    },
    {
      "cell_type": "code",
      "metadata": {
        "id": "uDJoSIQNVQ3s",
        "colab_type": "code",
        "colab": {}
      },
      "source": [
        "import geopandas as gpd\n",
        "import shapely as shp\n",
        "%matplotlib inline\n",
        "import pandas as pd\n",
        "import numpy as np\n",
        "import matplotlib.pyplot as plt\n",
        "\n",
        "from google.colab import files\n",
        "uploaded=files.upload()\n",
        "blocks = gpd.read_file(\"/content/Blocks.shp\")\n",
        "precincts = gpd.read_file(\"/content/VTDs_Oct17.shp\")\n"
      ],
      "execution_count": 0,
      "outputs": []
    },
    {
      "cell_type": "code",
      "metadata": {
        "id": "I_feq1dGVaF6",
        "colab_type": "code",
        "colab": {}
      },
      "source": [
        "def assign(blocks, precincts):\n",
        "    assignment = full_cover(blocks, precincts)\n",
        "    unassigned = sources[assignment.isna()]\n",
        "    assignments_by_area = assign_by_area(unassigned, precincts)\n"
      ],
      "execution_count": 0,
      "outputs": []
    },
    {
      "cell_type": "code",
      "metadata": {
        "id": "YkQS2CdQWRr1",
        "colab_type": "code",
        "colab": {}
      },
      "source": [
        "def assign_by_area(blocks, precincts):\n",
        "  PERCENTAGE = 100;\n",
        "  for block in blocks.intertuples():\n",
        "    geomblocks = block['geometry']\n",
        "    for precinct in precincts.intertuples():\n",
        "      geomprecincts = precincts['geometry']\n",
        "      if block.intersection(geomprecincts):\n",
        "             blocks['SPREC'] = precincts['SPREC']\n",
        "             block = block.to_crs({'init': 'epsg:3857'})\n",
        "             block_area = block['geometry'].area\n",
        "             inters_area = mapping(block.intersection(geomprecinct))\n",
        "             inters_area = inters_area.to_crs({'init': 'epsg:3857'})\n",
        "             blocks['PCTBLK'] = block_area/inters_area * PERCENTAGE\n",
        "             "
      ],
      "execution_count": 0,
      "outputs": []
    },
    {
      "cell_type": "code",
      "metadata": {
        "id": "9DYAERIrapd5",
        "colab_type": "code",
        "colab": {}
      },
      "source": [
        "def full_cover(blocks, precincts):\n",
        "  FULL_COVER = 100\n",
        "  for block in blocks.itertuples():\n",
        "    geomblocks = block['geometry']\n",
        "      for precinct in precincts.intertuples:\n",
        "        geomprecincts = precincts['geometry']\n",
        "          if blocks.whithin(geomprecincts):\n",
        "             blocks['SPREC'] = precincts['SPREC']\n",
        "             blocks['PCTBLK'] = FULL_COVER"
      ],
      "execution_count": 0,
      "outputs": []
    }
  ]
}
