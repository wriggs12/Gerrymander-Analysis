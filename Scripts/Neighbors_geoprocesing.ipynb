{
  "nbformat": 4,
  "nbformat_minor": 0,
  "metadata": {
    "colab": {
      "name": "Neighbors_geoprocesing.ipynb",
      "provenance": [],
      "collapsed_sections": [],
      "include_colab_link": true
    },
    "kernelspec": {
      "name": "python3",
      "display_name": "Python 3"
    },
    "accelerator": "GPU"
  },
  "cells": [
    {
      "cell_type": "markdown",
      "metadata": {
        "id": "view-in-github",
        "colab_type": "text"
      },
      "source": [
        "<a href=\"https://colab.research.google.com/github/mirzarad/CSE308/blob/master/Neighbors_geoprocesing.ipynb\" target=\"_parent\"><img src=\"https://colab.research.google.com/assets/colab-badge.svg\" alt=\"Open In Colab\"/></a>"
      ]
    },
    {
      "cell_type": "code",
      "metadata": {
        "id": "SgXdKCrgSA7c",
        "colab_type": "code",
        "colab": {}
      },
      "source": [
        "!pip install geopandas"
      ],
      "execution_count": 0,
      "outputs": []
    },
    {
      "cell_type": "code",
      "metadata": {
        "id": "VaGES6-XSKH_",
        "colab_type": "code",
        "colab": {}
      },
      "source": [
        "!pip install rtree"
      ],
      "execution_count": 0,
      "outputs": []
    },
    {
      "cell_type": "code",
      "metadata": {
        "id": "DWwGL0XiSNwQ",
        "colab_type": "code",
        "colab": {}
      },
      "source": [
        "! pip install pyshp\n",
        "! pip install pyproj\n",
        "! pip install geopy"
      ],
      "execution_count": 0,
      "outputs": []
    },
    {
      "cell_type": "code",
      "metadata": {
        "id": "jTQkLq-PSf37",
        "colab_type": "code",
        "colab": {}
      },
      "source": [
        "!pip install fiona"
      ],
      "execution_count": 0,
      "outputs": []
    },
    {
      "cell_type": "code",
      "metadata": {
        "id": "eqllUNMYSlqs",
        "colab_type": "code",
        "colab": {}
      },
      "source": [
        "!pip install https://github.com/JosPolfliet/pandas-profiling/archive/master.zip\n",
        "\n",
        "!pip install https://github.com/andrea-cuttone/geoplotlib/archive/master.zip\n",
        "\n",
        "!pip install https://github.com/ResidentMario/missingno/archive/master.zip"
      ],
      "execution_count": 0,
      "outputs": []
    },
    {
      "cell_type": "code",
      "metadata": {
        "id": "2GCd4c3ySx38",
        "colab_type": "code",
        "outputId": "e4762a06-6d3a-46af-b1d5-d4a3aac14bcd",
        "colab": {
          "resources": {
            "http://localhost:8080/nbextensions/google.colab/files.js": {
              "data": "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",
              "ok": true,
              "headers": [
                [
                  "content-type",
                  "application/javascript"
                ]
              ],
              "status": 200,
              "status_text": "OK"
            }
          },
          "base_uri": "https://localhost:8080/",
          "height": 75
        }
      },
      "source": [
        "from google.colab import files\n",
        "uploaded = files.upload()"
      ],
      "execution_count": 8,
      "outputs": [
        {
          "output_type": "display_data",
          "data": {
            "text/html": [
              "\n",
              "     <input type=\"file\" id=\"files-9b8a88e2-6308-44b3-a9a9-a3383085e94c\" name=\"files[]\" multiple disabled />\n",
              "     <output id=\"result-9b8a88e2-6308-44b3-a9a9-a3383085e94c\">\n",
              "      Upload widget is only available when the cell has been executed in the\n",
              "      current browser session. Please rerun this cell to enable.\n",
              "      </output>\n",
              "      <script src=\"/nbextensions/google.colab/files.js\"></script> "
            ],
            "text/plain": [
              "<IPython.core.display.HTML object>"
            ]
          },
          "metadata": {
            "tags": []
          }
        },
        {
          "output_type": "stream",
          "text": [
            "Saving VTDs_Oct17.zip to VTDs_Oct17.zip\n"
          ],
          "name": "stdout"
        }
      ]
    },
    {
      "cell_type": "code",
      "metadata": {
        "id": "RvQtwC9ltqa4",
        "colab_type": "code",
        "colab": {}
      },
      "source": [
        "import geopandas as gpd\n"
      ],
      "execution_count": 0,
      "outputs": []
    },
    {
      "cell_type": "code",
      "metadata": {
        "id": "0RVAgkTiWCuO",
        "colab_type": "code",
        "colab": {}
      },
      "source": [
        "!unzip /content/VTDs_Oct17.zip"
      ],
      "execution_count": 0,
      "outputs": []
    },
    {
      "cell_type": "code",
      "metadata": {
        "id": "LFhaA9SItvhs",
        "colab_type": "code",
        "colab": {}
      },
      "source": [
        "!curl -L http://download.osgeo.org/libspatialindex/spatialindex-src-1.8.5.tar.gz | tar xz"
      ],
      "execution_count": 0,
      "outputs": []
    },
    {
      "cell_type": "code",
      "metadata": {
        "id": "RR26w_nNuQKs",
        "colab_type": "code",
        "colab": {}
      },
      "source": [
        "import os"
      ],
      "execution_count": 0,
      "outputs": []
    },
    {
      "cell_type": "code",
      "metadata": {
        "id": "GxYLqOCwuV_T",
        "colab_type": "code",
        "colab": {}
      },
      "source": [
        "os.chdir(\"/content/spatialindex-src-1.8.5\")"
      ],
      "execution_count": 0,
      "outputs": []
    },
    {
      "cell_type": "code",
      "metadata": {
        "id": "cOX6hGZeub5T",
        "colab_type": "code",
        "colab": {}
      },
      "source": [
        "!./configure"
      ],
      "execution_count": 0,
      "outputs": []
    },
    {
      "cell_type": "code",
      "metadata": {
        "id": "BCOooVv7ulEv",
        "colab_type": "code",
        "colab": {}
      },
      "source": [
        "!make"
      ],
      "execution_count": 0,
      "outputs": []
    },
    {
      "cell_type": "code",
      "metadata": {
        "id": "AOHgOM05vVjW",
        "colab_type": "code",
        "colab": {}
      },
      "source": [
        "!make install"
      ],
      "execution_count": 0,
      "outputs": []
    },
    {
      "cell_type": "code",
      "metadata": {
        "id": "asfkf5Etvi4c",
        "colab_type": "code",
        "colab": {}
      },
      "source": [
        "!ldconfig"
      ],
      "execution_count": 0,
      "outputs": []
    },
    {
      "cell_type": "code",
      "metadata": {
        "id": "RGUp6Ie0voex",
        "colab_type": "code",
        "colab": {}
      },
      "source": [
        "import geopandas as gpd"
      ],
      "execution_count": 0,
      "outputs": []
    },
    {
      "cell_type": "code",
      "metadata": {
        "id": "Kra_xQliwe_H",
        "colab_type": "code",
        "colab": {}
      },
      "source": [
        "import shapely as shp"
      ],
      "execution_count": 0,
      "outputs": []
    },
    {
      "cell_type": "code",
      "metadata": {
        "id": "bznxxsVVzdj5",
        "colab_type": "code",
        "colab": {}
      },
      "source": [
        "!pip install more-itertools"
      ],
      "execution_count": 0,
      "outputs": []
    },
    {
      "cell_type": "code",
      "metadata": {
        "id": "xfS0dxLf32HS",
        "colab_type": "code",
        "outputId": "7253f3f2-b3a6-4f97-aed3-1bcbc8f52272",
        "colab": {
          "base_uri": "https://localhost:8080/",
          "height": 1000
        }
      },
      "source": [
        "\n",
        "\n",
        "%matplotlib inline\n",
        "import pandas as pd\n",
        "import numpy as np\n",
        "import matplotlib.pyplot as plt\n",
        "\n",
        "\n",
        "shp_file = '/content/VTDs_Oct17.dbf'\n",
        "\n",
        "geom = gpd.read_file(shp_file)\n",
        "\n",
        "geom.info()\n",
        "\n",
        "geom.plot()\n"
      ],
      "execution_count": 20,
      "outputs": [
        {
          "output_type": "stream",
          "text": [
            "<class 'geopandas.geodataframe.GeoDataFrame'>\n",
            "RangeIndex: 9152 entries, 0 to 9151\n",
            "Data columns (total 47 columns):\n",
            "OBJECTID_1    9152 non-null int64\n",
            "OBJECTID      9152 non-null int64\n",
            "NAMELSAD      9152 non-null object\n",
            "CORRECTSTF    9150 non-null object\n",
            "TAPERSONS     9152 non-null int64\n",
            "TA1RACE       9152 non-null int64\n",
            "TAWHITEALN    9152 non-null int64\n",
            "TABLACKALN    9152 non-null int64\n",
            "TAAMINDALN    9152 non-null int64\n",
            "TAASIANALN    9152 non-null int64\n",
            "TANHPOALN     9152 non-null int64\n",
            "TAOTHERALN    9152 non-null int64\n",
            "TA2RACE       9152 non-null int64\n",
            "TAHISPANIC    9152 non-null int64\n",
            "VAPERSONS     9152 non-null int64\n",
            "VA1RACE       9152 non-null int64\n",
            "VAWHITEALN    9152 non-null int64\n",
            "VABLACKALN    9152 non-null int64\n",
            "VAAIANALN     9152 non-null int64\n",
            "VAASIANALN    9152 non-null int64\n",
            "VANHPOALN     9152 non-null int64\n",
            "VAHISPANIC    9152 non-null int64\n",
            "VANHISPANC    9152 non-null int64\n",
            "COUNTYNAME    9152 non-null object\n",
            "MCD_NAME      9152 non-null object\n",
            "VTD_NAME      7628 non-null object\n",
            "T16DEM        9152 non-null int64\n",
            "T16REP        9152 non-null int64\n",
            "T16OTH        9152 non-null int64\n",
            "T16PRESD      9152 non-null int64\n",
            "T16PRESR      9152 non-null int64\n",
            "T16PRESOTH    9152 non-null int64\n",
            "T16SEND       9152 non-null int64\n",
            "T16SENR       9152 non-null int64\n",
            "T16ATGD       9152 non-null int64\n",
            "T16ATGR       9152 non-null int64\n",
            "T16AUDD       9152 non-null int64\n",
            "T16AUDR       9152 non-null int64\n",
            "T16TREASD     9152 non-null int64\n",
            "T16TREASR     9152 non-null int64\n",
            "T16CONGD      9152 non-null int64\n",
            "T16CONGR      9152 non-null int64\n",
            "T16STSD       9152 non-null int64\n",
            "T16STSR       9152 non-null int64\n",
            "T16STHD       9152 non-null int64\n",
            "T16STHR       9152 non-null int64\n",
            "geometry      9152 non-null geometry\n",
            "dtypes: geometry(1), int64(41), object(5)\n",
            "memory usage: 3.3+ MB\n"
          ],
          "name": "stdout"
        },
        {
          "output_type": "execute_result",
          "data": {
            "text/plain": [
              "<matplotlib.axes._subplots.AxesSubplot at 0x7f0389b5add8>"
            ]
          },
          "metadata": {
            "tags": []
          },
          "execution_count": 20
        },
        {
          "output_type": "display_data",
          "data": {
            "image/png": "[encoded data removed]",
            "text/plain": [
              "<Figure size 432x288 with 1 Axes>"
            ]
          },
          "metadata": {
            "tags": []
          }
        }
      ]
    },
    {
      "cell_type": "code",
      "metadata": {
        "id": "uOBnYmYXJdK3",
        "colab_type": "code",
        "outputId": "b94acaf8-8672-4946-c260-241f78e70f56",
        "colab": {
          "base_uri": "https://localhost:8080/",
          "height": 35
        }
      },
      "source": [
        "geom.geometry.nunique()"
      ],
      "execution_count": 21,
      "outputs": [
        {
          "output_type": "execute_result",
          "data": {
            "text/plain": [
              "9152"
            ]
          },
          "metadata": {
            "tags": []
          },
          "execution_count": 21
        }
      ]
    },
    {
      "cell_type": "code",
      "metadata": {
        "id": "gAFZ2Vm3HXhx",
        "colab_type": "code",
        "colab": {}
      },
      "source": [
        "geom.insert(0, 'ID', range(0, len(geom)))"
      ],
      "execution_count": 0,
      "outputs": []
    },
    {
      "cell_type": "code",
      "metadata": {
        "id": "rFfSprsmIa75",
        "colab_type": "code",
        "outputId": "6aeaf194-093a-4f6d-e02d-73bdecc26741",
        "colab": {
          "base_uri": "https://localhost:8080/",
          "height": 591
        }
      },
      "source": [
        "geom.head()"
      ],
      "execution_count": 0,
      "outputs": [
        {
          "output_type": "execute_result",
          "data": {
            "text/html": [
              "<div>\n",
              "<style scoped>\n",
              "    .dataframe tbody tr th:only-of-type {\n",
              "        vertical-align: middle;\n",
              "    }\n",
              "\n",
              "    .dataframe tbody tr th {\n",
              "        vertical-align: top;\n",
              "    }\n",
              "\n",
              "    .dataframe thead th {\n",
              "        text-align: right;\n",
              "    }\n",
              "</style>\n",
              "<table border=\"1\" class=\"dataframe\">\n",
              "  <thead>\n",
              "    <tr style=\"text-align: right;\">\n",
              "      <th></th>\n",
              "      <th>OBJECTID_1</th>\n",
              "      <th>OBJECTID</th>\n",
              "      <th>NAMELSAD</th>\n",
              "      <th>CORRECTSTF</th>\n",
              "      <th>TAPERSONS</th>\n",
              "      <th>TA1RACE</th>\n",
              "      <th>TAWHITEALN</th>\n",
              "      <th>TABLACKALN</th>\n",
              "      <th>TAAMINDALN</th>\n",
              "      <th>TAASIANALN</th>\n",
              "      <th>TANHPOALN</th>\n",
              "      <th>TAOTHERALN</th>\n",
              "      <th>TA2RACE</th>\n",
              "      <th>TAHISPANIC</th>\n",
              "      <th>VAPERSONS</th>\n",
              "      <th>VA1RACE</th>\n",
              "      <th>VAWHITEALN</th>\n",
              "      <th>VABLACKALN</th>\n",
              "      <th>VAAIANALN</th>\n",
              "      <th>VAASIANALN</th>\n",
              "      <th>VANHPOALN</th>\n",
              "      <th>VAHISPANIC</th>\n",
              "      <th>VANHISPANC</th>\n",
              "      <th>COUNTYNAME</th>\n",
              "      <th>MCD_NAME</th>\n",
              "      <th>VTD_NAME</th>\n",
              "      <th>T16DEM</th>\n",
              "      <th>T16REP</th>\n",
              "      <th>T16OTH</th>\n",
              "      <th>T16PRESD</th>\n",
              "      <th>T16PRESR</th>\n",
              "      <th>T16PRESOTH</th>\n",
              "      <th>T16SEND</th>\n",
              "      <th>T16SENR</th>\n",
              "      <th>T16ATGD</th>\n",
              "      <th>T16ATGR</th>\n",
              "      <th>T16AUDD</th>\n",
              "      <th>T16AUDR</th>\n",
              "      <th>T16TREASD</th>\n",
              "      <th>T16TREASR</th>\n",
              "      <th>T16CONGD</th>\n",
              "      <th>T16CONGR</th>\n",
              "      <th>T16STSD</th>\n",
              "      <th>T16STSR</th>\n",
              "      <th>T16STHD</th>\n",
              "      <th>T16STHR</th>\n",
              "      <th>geometry</th>\n",
              "    </tr>\n",
              "  </thead>\n",
              "  <tbody>\n",
              "    <tr>\n",
              "      <th>0</th>\n",
              "      <td>0</td>\n",
              "      <td>0</td>\n",
              "      <td>SEVEN SPRINGS</td>\n",
              "      <td>None</td>\n",
              "      <td>0</td>\n",
              "      <td>0</td>\n",
              "      <td>0</td>\n",
              "      <td>0</td>\n",
              "      <td>0</td>\n",
              "      <td>0</td>\n",
              "      <td>0</td>\n",
              "      <td>0</td>\n",
              "      <td>0</td>\n",
              "      <td>0</td>\n",
              "      <td>0</td>\n",
              "      <td>0</td>\n",
              "      <td>0</td>\n",
              "      <td>0</td>\n",
              "      <td>0</td>\n",
              "      <td>0</td>\n",
              "      <td>0</td>\n",
              "      <td>0</td>\n",
              "      <td>0</td>\n",
              "      <td>Fayette</td>\n",
              "      <td>Seven Springs</td>\n",
              "      <td>None</td>\n",
              "      <td>0</td>\n",
              "      <td>0</td>\n",
              "      <td>0</td>\n",
              "      <td>0</td>\n",
              "      <td>0</td>\n",
              "      <td>0</td>\n",
              "      <td>0</td>\n",
              "      <td>0</td>\n",
              "      <td>0</td>\n",
              "      <td>0</td>\n",
              "      <td>0</td>\n",
              "      <td>0</td>\n",
              "      <td>0</td>\n",
              "      <td>0</td>\n",
              "      <td>0</td>\n",
              "      <td>0</td>\n",
              "      <td>0</td>\n",
              "      <td>0</td>\n",
              "      <td>0</td>\n",
              "      <td>0</td>\n",
              "      <td>POLYGON ((-79.29632 40.03651, -79.29680 40.035...</td>\n",
              "    </tr>\n",
              "    <tr>\n",
              "      <th>1</th>\n",
              "      <td>0</td>\n",
              "      <td>0</td>\n",
              "      <td>ASHLAND</td>\n",
              "      <td>None</td>\n",
              "      <td>0</td>\n",
              "      <td>0</td>\n",
              "      <td>0</td>\n",
              "      <td>0</td>\n",
              "      <td>0</td>\n",
              "      <td>0</td>\n",
              "      <td>0</td>\n",
              "      <td>0</td>\n",
              "      <td>0</td>\n",
              "      <td>0</td>\n",
              "      <td>0</td>\n",
              "      <td>0</td>\n",
              "      <td>0</td>\n",
              "      <td>0</td>\n",
              "      <td>0</td>\n",
              "      <td>0</td>\n",
              "      <td>0</td>\n",
              "      <td>0</td>\n",
              "      <td>0</td>\n",
              "      <td>Columbia</td>\n",
              "      <td>Ashland</td>\n",
              "      <td>None</td>\n",
              "      <td>0</td>\n",
              "      <td>0</td>\n",
              "      <td>0</td>\n",
              "      <td>0</td>\n",
              "      <td>0</td>\n",
              "      <td>0</td>\n",
              "      <td>0</td>\n",
              "      <td>0</td>\n",
              "      <td>0</td>\n",
              "      <td>0</td>\n",
              "      <td>0</td>\n",
              "      <td>0</td>\n",
              "      <td>0</td>\n",
              "      <td>0</td>\n",
              "      <td>0</td>\n",
              "      <td>0</td>\n",
              "      <td>0</td>\n",
              "      <td>0</td>\n",
              "      <td>0</td>\n",
              "      <td>0</td>\n",
              "      <td>POLYGON ((-76.36468 40.78115, -76.36482 40.781...</td>\n",
              "    </tr>\n",
              "    <tr>\n",
              "      <th>2</th>\n",
              "      <td>3</td>\n",
              "      <td>3</td>\n",
              "      <td>RICHLAND TWP Voting District-Psudo (Emlenton B...</td>\n",
              "      <td>420310400-P1</td>\n",
              "      <td>8</td>\n",
              "      <td>8</td>\n",
              "      <td>8</td>\n",
              "      <td>0</td>\n",
              "      <td>0</td>\n",
              "      <td>0</td>\n",
              "      <td>0</td>\n",
              "      <td>0</td>\n",
              "      <td>0</td>\n",
              "      <td>0</td>\n",
              "      <td>8</td>\n",
              "      <td>8</td>\n",
              "      <td>8</td>\n",
              "      <td>0</td>\n",
              "      <td>0</td>\n",
              "      <td>0</td>\n",
              "      <td>0</td>\n",
              "      <td>0</td>\n",
              "      <td>0</td>\n",
              "      <td>Clarion</td>\n",
              "      <td>Emlenton</td>\n",
              "      <td>None</td>\n",
              "      <td>0</td>\n",
              "      <td>0</td>\n",
              "      <td>0</td>\n",
              "      <td>0</td>\n",
              "      <td>0</td>\n",
              "      <td>0</td>\n",
              "      <td>0</td>\n",
              "      <td>0</td>\n",
              "      <td>0</td>\n",
              "      <td>0</td>\n",
              "      <td>0</td>\n",
              "      <td>0</td>\n",
              "      <td>0</td>\n",
              "      <td>0</td>\n",
              "      <td>0</td>\n",
              "      <td>0</td>\n",
              "      <td>0</td>\n",
              "      <td>0</td>\n",
              "      <td>0</td>\n",
              "      <td>0</td>\n",
              "      <td>MULTIPOLYGON (((-79.69325 41.18306, -79.69329 ...</td>\n",
              "    </tr>\n",
              "    <tr>\n",
              "      <th>3</th>\n",
              "      <td>4</td>\n",
              "      <td>4</td>\n",
              "      <td>ALLEGHENY TWP DIST 04 - Psudo (Tunnelhill Boro...</td>\n",
              "      <td>420130040-P1</td>\n",
              "      <td>118</td>\n",
              "      <td>118</td>\n",
              "      <td>114</td>\n",
              "      <td>0</td>\n",
              "      <td>0</td>\n",
              "      <td>4</td>\n",
              "      <td>0</td>\n",
              "      <td>0</td>\n",
              "      <td>0</td>\n",
              "      <td>0</td>\n",
              "      <td>118</td>\n",
              "      <td>118</td>\n",
              "      <td>114</td>\n",
              "      <td>0</td>\n",
              "      <td>0</td>\n",
              "      <td>4</td>\n",
              "      <td>0</td>\n",
              "      <td>0</td>\n",
              "      <td>0</td>\n",
              "      <td>Blair</td>\n",
              "      <td>Tunnel Hill</td>\n",
              "      <td>None</td>\n",
              "      <td>0</td>\n",
              "      <td>0</td>\n",
              "      <td>0</td>\n",
              "      <td>0</td>\n",
              "      <td>0</td>\n",
              "      <td>0</td>\n",
              "      <td>0</td>\n",
              "      <td>0</td>\n",
              "      <td>0</td>\n",
              "      <td>0</td>\n",
              "      <td>0</td>\n",
              "      <td>0</td>\n",
              "      <td>0</td>\n",
              "      <td>0</td>\n",
              "      <td>0</td>\n",
              "      <td>0</td>\n",
              "      <td>0</td>\n",
              "      <td>0</td>\n",
              "      <td>0</td>\n",
              "      <td>0</td>\n",
              "      <td>POLYGON ((-78.54201 40.46965, -78.54200 40.469...</td>\n",
              "    </tr>\n",
              "    <tr>\n",
              "      <th>4</th>\n",
              "      <td>5</td>\n",
              "      <td>5</td>\n",
              "      <td>WEST SADSBURY TWP Voting District</td>\n",
              "      <td>420291740</td>\n",
              "      <td>2444</td>\n",
              "      <td>2414</td>\n",
              "      <td>2247</td>\n",
              "      <td>123</td>\n",
              "      <td>2</td>\n",
              "      <td>10</td>\n",
              "      <td>0</td>\n",
              "      <td>32</td>\n",
              "      <td>30</td>\n",
              "      <td>59</td>\n",
              "      <td>1737</td>\n",
              "      <td>1724</td>\n",
              "      <td>1600</td>\n",
              "      <td>96</td>\n",
              "      <td>2</td>\n",
              "      <td>7</td>\n",
              "      <td>0</td>\n",
              "      <td>36</td>\n",
              "      <td>1701</td>\n",
              "      <td>Chester</td>\n",
              "      <td>West Sadsbury Twp</td>\n",
              "      <td>None</td>\n",
              "      <td>420</td>\n",
              "      <td>690</td>\n",
              "      <td>176</td>\n",
              "      <td>334</td>\n",
              "      <td>562</td>\n",
              "      <td>34</td>\n",
              "      <td>317</td>\n",
              "      <td>571</td>\n",
              "      <td>334</td>\n",
              "      <td>588</td>\n",
              "      <td>288</td>\n",
              "      <td>540</td>\n",
              "      <td>326</td>\n",
              "      <td>532</td>\n",
              "      <td>289</td>\n",
              "      <td>622</td>\n",
              "      <td>354</td>\n",
              "      <td>568</td>\n",
              "      <td>0</td>\n",
              "      <td>707</td>\n",
              "      <td>POLYGON ((-75.93793 40.00867, -75.93794 40.008...</td>\n",
              "    </tr>\n",
              "  </tbody>\n",
              "</table>\n",
              "</div>"
            ],
            "text/plain": [
              "   OBJECTID_1  ...                                           geometry\n",
              "0           0  ...  POLYGON ((-79.29632 40.03651, -79.29680 40.035...\n",
              "1           0  ...  POLYGON ((-76.36468 40.78115, -76.36482 40.781...\n",
              "2           3  ...  MULTIPOLYGON (((-79.69325 41.18306, -79.69329 ...\n",
              "3           4  ...  POLYGON ((-78.54201 40.46965, -78.54200 40.469...\n",
              "4           5  ...  POLYGON ((-75.93793 40.00867, -75.93794 40.008...\n",
              "\n",
              "[5 rows x 47 columns]"
            ]
          },
          "metadata": {
            "tags": []
          },
          "execution_count": 20
        }
      ]
    },
    {
      "cell_type": "code",
      "metadata": {
        "id": "V4qDiPahVyot",
        "colab_type": "code",
        "colab": {}
      },
      "source": [
        "type(geom)\n",
        "geom.head()"
      ],
      "execution_count": 0,
      "outputs": []
    },
    {
      "cell_type": "markdown",
      "metadata": {
        "id": "g1zS0knRWPTw",
        "colab_type": "text"
      },
      "source": [
        "Geospatial anaysis using fiona\n",
        "open file \n",
        "Find The coordinate reference system (CRS) (for future transformations)"
      ]
    },
    {
      "cell_type": "code",
      "metadata": {
        "id": "MMaacRnW8C4q",
        "colab_type": "code",
        "outputId": "99819d1b-272a-44cf-ec71-3040334ab744",
        "colab": {
          "base_uri": "https://localhost:8080/",
          "height": 73
        }
      },
      "source": [
        "import fiona as fiona\n",
        "import itertools\n",
        "import pyproj\n",
        "from pprint import pprint\n",
        "from shapely.geometry import shape, mapping\n",
        "from shapely.ops import transform\n",
        "from functools import partial\n",
        "\n",
        "polys = fiona.open(\"/content/VTDs_Oct17.shp\")\n",
        "print(type(polys))\n",
        "print(polys.schema)"
      ],
      "execution_count": 0,
      "outputs": [
        {
          "output_type": "stream",
          "text": [
            "<class 'fiona.collection.Collection'>\n",
            "{'properties': OrderedDict([('OBJECTID_1', 'int:10'), ('OBJECTID', 'int:10'), ('NAMELSAD', 'str:254'), ('CORRECTSTF', 'str:254'), ('TAPERSONS', 'int:10'), ('TA1RACE', 'int:10'), ('TAWHITEALN', 'int:10'), ('TABLACKALN', 'int:10'), ('TAAMINDALN', 'int:10'), ('TAASIANALN', 'int:10'), ('TANHPOALN', 'int:10'), ('TAOTHERALN', 'int:10'), ('TA2RACE', 'int:10'), ('TAHISPANIC', 'int:10'), ('VAPERSONS', 'int:10'), ('VA1RACE', 'int:10'), ('VAWHITEALN', 'int:10'), ('VABLACKALN', 'int:10'), ('VAAIANALN', 'int:10'), ('VAASIANALN', 'int:10'), ('VANHPOALN', 'int:10'), ('VAHISPANIC', 'int:10'), ('VANHISPANC', 'int:10'), ('COUNTYNAME', 'str:254'), ('MCD_NAME', 'str:254'), ('VTD_NAME', 'str:254'), ('T16DEM', 'int:10'), ('T16REP', 'int:10'), ('T16OTH', 'int:10'), ('T16PRESD', 'int:10'), ('T16PRESR', 'int:10'), ('T16PRESOTH', 'int:10'), ('T16SEND', 'int:10'), ('T16SENR', 'int:10'), ('T16ATGD', 'int:10'), ('T16ATGR', 'int:10'), ('T16AUDD', 'int:10'), ('T16AUDR', 'int:10'), ('T16TREASD', 'int:10'), ('T16TREASR', 'int:10'), ('T16CONGD', 'int:10'), ('T16CONGR', 'int:10'), ('T16STSD', 'int:10'), ('T16STSR', 'int:10'), ('T16STHD', 'int:10'), ('T16STHR', 'int:10')]), 'geometry': 'Polygon'}\n"
          ],
          "name": "stdout"
        }
      ]
    },
    {
      "cell_type": "markdown",
      "metadata": {
        "id": "p4Ok8Acem_RP",
        "colab_type": "text"
      },
      "source": [
        "The algorithm looks at all combinations of geomety object (O(rn))\n",
        "if the geometry share border (not interior)and length of the shared line is greater than predifined threshold of 100 meters\n",
        "we add the edge to the graph"
      ]
    },
    {
      "cell_type": "code",
      "metadata": {
        "id": "BrdLjTIwVRas",
        "colab_type": "code",
        "colab": {}
      },
      "source": [
        "def findNeighbPrecincts(polys){\n",
        "newschema = {'geometry': 'LineString','properties': {'id1':'str', 'id2':'str', 'length':'float'}}\n",
        "with fiona.open('intersection.shp','w', crs=polys.crs, driver='ESRI Shapefile', schema=newschema) as e:\n",
        "  for precinct1,precinct2 in  itertools.combinations(polys, 2):\n",
        "    geomprecinct1 = shape(precinct1['geometry'])\n",
        "    geomprecinct2 = shape(precinct2['geometry'])\n",
        "    if !geomprecinct1.disjoint( geomprecinct2 ):\n",
        "      id1 = precinct1['properties']['CORRECTSTF']\n",
        "      id2 = precinct2['properties']['CORRECTSTF']\n",
        "      project = partial(\n",
        "      pyproj.transform,\n",
        "      pyproj.Proj(init='EPSG:4326'),\n",
        "      pyproj.Proj(init='EPSG:32633'))\n",
        "      line = transform(project,shape(mapping(geomprecinct1.intersection(geomprecinct2))) )\n",
        "      length=line.length\n",
        "        if length>=100:\n",
        "          e.write({'geometry':mapping(geomprecinct1.intersection(geomprecinct2)),  'properties': {'id1':id1, 'id2':id2, 'length':length}})\n",
        "          print (\"Precinct \", precinct1['properties']['CORRECTSTF'],  \" touches Precinct \", precinct2['properties']['CORRECTSTF'], \", length of border: \", length)}"
      ],
      "execution_count": 0,
      "outputs": []
    }
  ]
}